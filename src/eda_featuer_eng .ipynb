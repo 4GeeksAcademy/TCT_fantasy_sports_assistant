{
 "cells": [
  {
   "cell_type": "code",
   "execution_count": null,
   "metadata": {
    "vscode": {
     "languageId": "plaintext"
    }
   },
   "outputs": [],
   "source": [
    "for position, data_df in position_data.items():\n",
    "    test_df = data_df.copy()\n",
    "    test_df[['Player', 'Team']] = test_df['Name'].str.extract(r'^(.*?\\b(?:I{1,3}|IV)?)(?:\\s+)([A-Z]{2,3})$')\n",
    "    test_df.drop(columns=['Name'], inplace=True)\n",
    "    position_data[position]=test_df\n",
    "    print(test_df.head())"
   ]
  },
  {
   "cell_type": "code",
   "execution_count": null,
   "metadata": {
    "vscode": {
     "languageId": "plaintext"
    }
   },
   "outputs": [],
   "source": [
    "for position, data_df in position_data.items():\n",
    "\n",
    "    indexes=[\n",
    "        data_df['Year'].tolist(),\n",
    "        data_df['Week'].tolist(),\n",
    "        data_df['Player'].tolist()\n",
    "    ]\n",
    "\n",
    "    index_tuples=list(zip(*indexes))\n",
    "    index=pd.MultiIndex.from_tuples(index_tuples, names=['Season', 'Week', 'Player'])\n",
    "    data_df.set_index(index, inplace=True)\n",
    "\n",
    "    # Drop unnecessary columns\n",
    "    data_df.drop(['Year', 'Player', 'Week'], axis=1, inplace=True)\n",
    "    print(data_df.head())"
   ]
  },
  {
   "cell_type": "code",
   "execution_count": null,
   "metadata": {
    "vscode": {
     "languageId": "plaintext"
    }
   },
   "outputs": [],
   "source": [
    "for position in position_data.keys():\n",
    "\n",
    "    # Replace empty strings with NAN\n",
    "    position_data[position].replace('', pd.NA, inplace=True)\n",
    "\n",
    "    # Drop NAN containing rows\n",
    "    position_data[position].dropna(inplace=True)\n",
    "\n",
    "    # Set float dtype for all features\n",
    "    position_data[position]=position_data[position].astype(float)\n",
    "\n",
    "position_data['qb'].head()"
   ]
  },
  {
   "cell_type": "code",
   "execution_count": null,
   "metadata": {
    "vscode": {
     "languageId": "plaintext"
    }
   },
   "outputs": [],
   "source": [
    "# Save the parsed data\n",
    "pickle.dump(position_data, open(parsed_data_path, 'wb'))"
   ]
  }
 ],
 "metadata": {
  "language_info": {
   "name": "python"
  }
 },
 "nbformat": 4,
 "nbformat_minor": 2
}
