{
 "cells": [
  {
   "cell_type": "code",
   "execution_count": 1,
   "metadata": {},
   "outputs": [
    {
     "name": "stdout",
     "output_type": "stream",
     "text": [
      "Missing values per column:\n",
      "Age    0\n",
      "Exp    0\n",
      "G      0\n",
      "Cmp    0\n",
      "dtype: int64\n"
     ]
    },
    {
     "ename": "ModuleNotFoundError",
     "evalue": "No module named 'seaborn'",
     "output_type": "error",
     "traceback": [
      "\u001b[0;31m---------------------------------------------------------------------------\u001b[0m",
      "\u001b[0;31mModuleNotFoundError\u001b[0m                       Traceback (most recent call last)",
      "Cell \u001b[0;32mIn[1], line 19\u001b[0m\n\u001b[1;32m     17\u001b[0m \u001b[38;5;28mprint\u001b[39m(missing_values)\n\u001b[1;32m     18\u001b[0m \u001b[38;5;66;03m# Visualize the missing values with a heatmap\u001b[39;00m\n\u001b[0;32m---> 19\u001b[0m \u001b[38;5;28;01mimport\u001b[39;00m \u001b[38;5;21;01mseaborn\u001b[39;00m \u001b[38;5;28;01mas\u001b[39;00m \u001b[38;5;21;01msns\u001b[39;00m\n\u001b[1;32m     20\u001b[0m \u001b[38;5;28;01mimport\u001b[39;00m \u001b[38;5;21;01mmatplotlib\u001b[39;00m\u001b[38;5;21;01m.\u001b[39;00m\u001b[38;5;21;01mpyplot\u001b[39;00m \u001b[38;5;28;01mas\u001b[39;00m \u001b[38;5;21;01mplt\u001b[39;00m\n\u001b[1;32m     21\u001b[0m plt\u001b[38;5;241m.\u001b[39mfigure(figsize\u001b[38;5;241m=\u001b[39m(\u001b[38;5;241m12\u001b[39m, \u001b[38;5;241m8\u001b[39m))\n",
      "\u001b[0;31mModuleNotFoundError\u001b[0m: No module named 'seaborn'"
     ]
    }
   ],
   "source": [
    "import pandas as pd\n",
    "# Load the data\n",
    "data_df = pd.read_pickle('../data/parsed_data_all_positions.pkl')\n",
    "\n",
    "data_dict = {\n",
    "    'Age': [25, 30, 22],\n",
    "    'Exp': [2, 5, 1],\n",
    "    'G': [10, 15, 8],\n",
    "    'Cmp': [5, 10, 4],\n",
    "    # add other columns here\n",
    "}\n",
    "# Convert the dictionary to a pandas DataFrame\n",
    "data_df = pd.DataFrame(data_dict)\n",
    "# Now, you can check for missing values:\n",
    "missing_values = data_df.isnull().sum()\n",
    "print(\"Missing values per column:\")\n",
    "print(missing_values)\n",
    "# Visualize the missing values with a heatmap\n",
    "import seaborn as sns\n",
    "import matplotlib.pyplot as plt\n",
    "plt.figure(figsize=(12, 8))\n",
    "sns.heatmap(data_df.isnull(), cbar=False, cmap='viridis')\n",
    "plt.title('Missing Values Heatmap')\n",
    "plt.show()"
   ]
  },
  {
   "cell_type": "code",
   "execution_count": null,
   "metadata": {},
   "outputs": [],
   "source": [
    "# Check missing values across all columns\n",
    "missing_values = data_df.isnull().sum()\n",
    "print(\"Missing values per column:\")\n",
    "print(missing_values)\n",
    "# You can also visualize missing values with a heatmap if you prefer\n",
    "import seaborn as sns\n",
    "import matplotlib.pyplot as plt\n",
    "# Heatmap to visualize missing values\n",
    "plt.figure(figsize=(12, 8))\n",
    "sns.heatmap(data_df.isnull(), cbar=False, cmap='viridis')\n",
    "plt.title('Missing Values Heatmap')\n",
    "plt.show()\n",
    "data_file='../data/parsed_data_all_positions.pkl'\n",
    "\n",
    "data_df = data_df.apply(lambda col: col.fillna(col.mode()[0]) if col.dtypes == 'O' else col)"
   ]
  },
  {
   "cell_type": "code",
   "execution_count": null,
   "metadata": {},
   "outputs": [],
   "source": [
    "# Visualizing outliers for some important numeric columns\n",
    "import seaborn as sns\n",
    "import matplotlib.pyplot as plt\n",
    "# List of numeric columns you want to check\n",
    "numeric_columns = [\n",
    "    'Age', 'Exp', 'G', 'Cmp', 'Att', 'Cm%', 'PYd', 'Y/Att', 'PTD', 'Int',\n",
    "    'Rsh', 'RshYd', 'RshTD', 'FP/G', 'FantPt', 'Y/Rsh', 'Rec', 'RecYd',\n",
    "    'RecTD', 'Y/Rec', 'Year'\n",
    "]"
   ]
  },
  {
   "cell_type": "code",
   "execution_count": null,
   "metadata": {},
   "outputs": [],
   "source": [
    "# Set up the number of rows and columns dynamically to handle more than 20 subplots\n",
    "num_columns = 4  # You can adjust this number as per your need\n",
    "num_rows = (len(numeric_columns) + num_columns - 1) // num_columns  # Ensures enough rows for all plots\n",
    "plt.figure(figsize=(15, num_rows * 3))  # Adjusting figure size based on number of rows\n",
    "for i, col in enumerate(numeric_columns, 1):\n",
    "    plt.subplot(num_rows, num_columns, i)\n",
    "    sns.boxplot(data_df[col])\n",
    "    plt.title(f'Boxplot of {col}')\n",
    "plt.tight_layout()\n",
    "plt.show()"
   ]
  },
  {
   "cell_type": "code",
   "execution_count": null,
   "metadata": {},
   "outputs": [],
   "source": [
    "# Compute the correlation matrix\n",
    "correlation_matrix = data_df[numeric_columns].corr()\n",
    "# Visualize the correlation matrix\n",
    "plt.figure(figsize=(12, 8))\n",
    "sns.heatmap(correlation_matrix, annot=True, cmap='coolwarm', fmt='.2f', linewidths=0.5)\n",
    "plt.title('Correlation Matrix')\n",
    "plt.show()\n",
    "New"
   ]
  },
  {
   "cell_type": "code",
   "execution_count": null,
   "metadata": {},
   "outputs": [],
   "source": [
    "from sklearn.preprocessing import StandardScaler\n",
    "# Apply Standard Scaler to numeric columns\n",
    "scaler = StandardScaler()\n",
    "data_df[numeric_columns] = scaler.fit_transform(data_df[numeric_columns])\n",
    "# Check if scaling worked\n",
    "print(data_df.head())"
   ]
  }
 ],
 "metadata": {
  "kernelspec": {
   "display_name": "Python 3",
   "language": "python",
   "name": "python3"
  },
  "language_info": {
   "codemirror_mode": {
    "name": "ipython",
    "version": 3
   },
   "file_extension": ".py",
   "mimetype": "text/x-python",
   "name": "python",
   "nbconvert_exporter": "python",
   "pygments_lexer": "ipython3",
   "version": "3.10.12"
  }
 },
 "nbformat": 4,
 "nbformat_minor": 2
}
