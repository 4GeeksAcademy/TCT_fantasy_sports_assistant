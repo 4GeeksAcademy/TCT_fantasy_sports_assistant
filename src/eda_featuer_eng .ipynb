{
 "cells": [
  {
   "cell_type": "code",
   "execution_count": null,
   "metadata": {},
   "outputs": [],
   "source": [
    "# Check missing values across all columns\n",
    "missing_values = data_df.isnull().sum()\n",
    "print(\"Missing values per column:\")\n",
    "print(missing_values)\n",
    "# You can also visualize missing values with a heatmap if you prefer\n",
    "import seaborn as sns\n",
    "import matplotlib.pyplot as plt\n",
    "# Heatmap to visualize missing values\n",
    "plt.figure(figsize=(12, 8))\n",
    "sns.heatmap(data_df.isnull(), cbar=False, cmap='viridis')\n",
    "plt.title('Missing Values Heatmap')\n",
    "plt.show()\n",
    "data_file='../data/parsed_data_all_positions.pkl'\n",
    "\n",
    "data_df = data_df.apply(lambda col: col.fillna(col.mode()[0]) if col.dtypes == 'O' else col)"
   ]
  },
  {
   "cell_type": "code",
   "execution_count": null,
   "metadata": {},
   "outputs": [],
   "source": [
    "# Visualizing outliers for some important numeric columns\n",
    "import seaborn as sns\n",
    "import matplotlib.pyplot as plt\n",
    "# List of numeric columns you want to check\n",
    "numeric_columns = [\n",
    "    'Age', 'Exp', 'G', 'Cmp', 'Att', 'Cm%', 'PYd', 'Y/Att', 'PTD', 'Int',\n",
    "    'Rsh', 'RshYd', 'RshTD', 'FP/G', 'FantPt', 'Y/Rsh', 'Rec', 'RecYd',\n",
    "    'RecTD', 'Y/Rec', 'Year'\n",
    "]"
   ]
  },
  {
   "cell_type": "code",
   "execution_count": null,
   "metadata": {},
   "outputs": [],
   "source": [
    "# Set up the number of rows and columns dynamically to handle more than 20 subplots\n",
    "num_columns = 4  # You can adjust this number as per your need\n",
    "num_rows = (len(numeric_columns) + num_columns - 1) // num_columns  # Ensures enough rows for all plots\n",
    "plt.figure(figsize=(15, num_rows * 3))  # Adjusting figure size based on number of rows\n",
    "for i, col in enumerate(numeric_columns, 1):\n",
    "    plt.subplot(num_rows, num_columns, i)\n",
    "    sns.boxplot(data_df[col])\n",
    "    plt.title(f'Boxplot of {col}')\n",
    "plt.tight_layout()\n",
    "plt.show()"
   ]
  },
  {
   "cell_type": "code",
   "execution_count": null,
   "metadata": {},
   "outputs": [],
   "source": [
    "# Compute the correlation matrix\n",
    "correlation_matrix = data_df[numeric_columns].corr()\n",
    "# Visualize the correlation matrix\n",
    "plt.figure(figsize=(12, 8))\n",
    "sns.heatmap(correlation_matrix, annot=True, cmap='coolwarm', fmt='.2f', linewidths=0.5)\n",
    "plt.title('Correlation Matrix')\n",
    "plt.show()\n",
    "New"
   ]
  },
  {
   "cell_type": "code",
   "execution_count": null,
   "metadata": {},
   "outputs": [],
   "source": [
    "from sklearn.preprocessing import StandardScaler\n",
    "# Apply Standard Scaler to numeric columns\n",
    "scaler = StandardScaler()\n",
    "data_df[numeric_columns] = scaler.fit_transform(data_df[numeric_columns])\n",
    "# Check if scaling worked\n",
    "print(data_df.head())"
   ]
  }
 ],
 "metadata": {
  "kernelspec": {
   "display_name": "Python 3",
   "language": "python",
   "name": "python3"
  },
  "language_info": {
   "name": "python",
   "version": "3.10.12"
  }
 },
 "nbformat": 4,
 "nbformat_minor": 2
}
