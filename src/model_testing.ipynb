{
 "cells": [
  {
   "cell_type": "code",
   "execution_count": null,
   "metadata": {
    "vscode": {
     "languageId": "plaintext"
    }
   },
   "outputs": [],
   "source": [
    "position_training_features={}\n",
    "position_training_labels={}\n",
    "position_testing_features={}\n",
    "position_testing_labels={}\n",
    "position_feature_scalers={}\n",
    "position_label_scalers={}\n",
    "\n",
    "for position in position_data.keys():\n",
    "    \n",
    "    # Generate feature-label pairs for each position\n",
    "    features, labels=generate_data(position_data[position])\n",
    "\n",
    "    # Split them into training and validation\n",
    "    training_features, testing_features, training_labels, testing_labels=train_test_split(features, labels)\n",
    "\n",
    "    # Scale the data\n",
    "    feature_scaler=StandardScaler()\n",
    "    feature_scaler.fit(training_features)\n",
    "    position_training_features[position]=feature_scaler.transform(training_features)\n",
    "    position_testing_features[position]=feature_scaler.transform(testing_features)\n",
    "\n",
    "    label_scaler=StandardScaler()\n",
    "    label_scaler.fit(training_labels.reshape(-1, 1))\n",
    "    position_training_labels[position]=label_scaler.transform(training_labels.reshape(-1, 1))\n",
    "    position_testing_labels[position]=label_scaler.transform(testing_labels.reshape(-1, 1))\n",
    "\n",
    "    # Save the scalers for later\n",
    "    position_feature_scalers[position]=feature_scaler\n",
    "    position_label_scalers[position]=label_scaler\n",
    "\n",
    "    print(f'\\nPosition: {position}')\n",
    "    print(f'Training features: {training_features.shape}')\n",
    "    print(f'Training labels: {training_labels.shape}')\n",
    "    print(f'Testing features: {testing_features.shape}')\n",
    "    print(f'Testing labels: {testing_labels.shape}')"
   ]
  },
  {
   "cell_type": "code",
   "execution_count": null,
   "metadata": {
    "vscode": {
     "languageId": "plaintext"
    }
   },
   "outputs": [],
   "source": [
    "# Loop and fit a model for each position\n",
    "position_models={}\n",
    "position_predictions={}\n",
    "\n",
    "for position in position_data.keys():\n",
    "\n",
    "    # Fit the model on the training data and make predictions for the testing data\n",
    "    position_models[position]=LinearRegression().fit(position_training_features[position], position_training_labels[position])\n",
    "    position_predictions[position]=position_models[position].predict(position_testing_features[position])\n",
    "\n",
    "    # Un-scale the predictions and labels\n",
    "    position_testing_labels[position]=position_label_scalers[position].inverse_transform(position_testing_labels[position])\n",
    "    position_predictions[position]=position_label_scalers[position].inverse_transform(position_predictions[position])\n",
    "\n",
    "    # Calculate RMSE\n",
    "    rmse=root_mean_squared_error(position_predictions[position], position_testing_labels[position])\n",
    "    print(f'{position} FanPt RMSE: {rmse}')\n"
   ]
  },
  {
   "cell_type": "code",
   "execution_count": null,
   "metadata": {
    "vscode": {
     "languageId": "plaintext"
    }
   },
   "outputs": [],
   "source": [
    "# Set-up a 2x2 figure \n",
    "fig, axs=plt.subplots(2,2, figsize=(6,6))\n",
    "axs=axs.flatten()\n",
    "\n",
    "# Add the main title\n",
    "fig.suptitle('Weekly FantPt predictions, testing data', size='large')\n",
    "\n",
    "for ax, position in zip(axs, position_data.keys()):\n",
    "    ax.set_title(f'Position: {position}')\n",
    "    ax.scatter(position_testing_labels[position], position_predictions[position], color='black')\n",
    "    ax.set_xlabel('True FantPt')\n",
    "    ax.set_ylabel('Predicted FantPt')\n",
    "\n",
    "plt.tight_layout()\n",
    "plt.show()"
   ]
  }
 ],
 "metadata": {
  "language_info": {
   "name": "python"
  }
 },
 "nbformat": 4,
 "nbformat_minor": 2
}
