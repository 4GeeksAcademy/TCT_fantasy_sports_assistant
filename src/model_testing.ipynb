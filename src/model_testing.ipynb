{
 "cells": [
  {
   "cell_type": "code",
   "execution_count": null,
   "metadata": {
    "vscode": {
     "languageId": "plaintext"
    }
   },
   "outputs": [],
   "source": [
    "print(data_df.columns)\n",
    "\n",
    "df_model_clean = df_model.drop(columns=[col for col in df_model.columns if 'Name_' in col or col == 'Player'])\n",
    "# Now, check the remaining columns\n",
    "print(df_model_clean.columns)\n",
    "\n",
    "# Define the feature set (X) and target variable (y)\n",
    "X = df_model_clean.drop(columns=['FantPt', 'Position'])  # Drop 'FantPt' as it's the target\n",
    "y = df_model_clean['FantPt']  # 'FantPt' is our target variable"
   ]
  },
  {
   "cell_type": "code",
   "execution_count": null,
   "metadata": {
    "vscode": {
     "languageId": "plaintext"
    }
   },
   "outputs": [],
   "source": [
    "traintest split ###\n",
    "\n",
    "from sklearn.model_selection import train_test_split\n",
    "# Split the data into training and testing sets (80% for training, 20% for testing)\n",
    "X_train, X_test, y_train, y_test = train_test_split(X, y, test_size=0.2, random_state=42)\n",
    "# Print the shape of the splits to verify\n",
    "print(f\"Training data shape (X_train): {X_train.shape}\")\n",
    "print(f\"Test data shape (X_test): {X_test.shape}\")\n",
    "\n",
    "\n"
   ]
  },
  {
   "cell_type": "code",
   "execution_count": null,
   "metadata": {
    "vscode": {
     "languageId": "plaintext"
    }
   },
   "outputs": [],
   "source": [
    "\n",
    "from sklearn.linear_model import LinearRegression\n",
    "from sklearn.metrics import mean_squared_error, r2_score\n",
    "# Initialize Linear Regression\n",
    "linear_model = LinearRegression()\n",
    "# Train the model\n",
    "linear_model.fit(X_train, y_train)\n",
    "# Make predictions\n",
    "y_pred_linear = linear_model.predict(X_test)\n",
    "# Evaluate the model\n",
    "mse_linear = mean_squared_error(y_test, y_pred_linear)\n",
    "r2_linear = r2_score(y_test, y_pred_linear)\n",
    "print(f\"Linear Regression - Mean Squared Error: {mse_linear}\")\n",
    "print(f\"Linear Regression - R-squared: {r2_linear}\")\n"
   ]
  },
  {
   "cell_type": "code",
   "execution_count": null,
   "metadata": {
    "vscode": {
     "languageId": "plaintext"
    }
   },
   "outputs": [],
   "source": [
    "from sklearn.ensemble import RandomForestRegressor\n",
    "from sklearn.model_selection import GridSearchCV\n",
    "from sklearn.metrics import mean_squared_error, r2_score\n",
    "# Define the model (Random Forest Regressor)\n",
    "rf_model = RandomForestRegressor(random_state=42)\n",
    "# Define the hyperparameter grid\n",
    "param_grid = {\n",
    "    'n_estimators': [50, 100, 150],  # Number of trees in the forest\n",
    "    'max_depth': [None, 10, 20, 30],  # Maximum depth of the trees\n",
    "    'min_samples_split': [2, 5, 10],  # Minimum samples required to split a node\n",
    "    'min_samples_leaf': [1, 2, 4],    # Minimum samples required to be at a leaf node\n",
    "}\n",
    "# Set up GridSearchCV\n",
    "grid_search = GridSearchCV(estimator=rf_model, param_grid=param_grid, cv=3, n_jobs=-1, verbose=2, scoring='neg_mean_squared_error')\n",
    "# Fit the model to the data (this can take a while)\n",
    "grid_search.fit(X_train, y_train)\n",
    "# Get the best parameters\n",
    "print(f\"Best parameters found: {grid_search.best_params_}\")\n",
    "# Best model after grid search\n",
    "best_rf_model = grid_search.best_estimator_\n",
    "# Evaluate the best model\n",
    "y_pred_rf = best_rf_model.predict(X_test)\n",
    "# Evaluate performance\n",
    "mse_rf = mean_squared_error(y_test, y_pred_rf)\n",
    "r2_rf = r2_score(y_test, y_pred_rf)\n",
    "print(f\"Random Forest - Mean Squared Error: {mse_rf}\")\n",
    "print(f\"Random Forest - R-squared: {r2_rf}\")"
   ]
  },
  {
   "cell_type": "code",
   "execution_count": null,
   "metadata": {
    "vscode": {
     "languageId": "plaintext"
    }
   },
   "outputs": [],
   "source": [
    "import xgboost as xgb\n",
    "from sklearn.metrics import mean_squared_error, r2_score\n",
    "# Define the model (XGBoost Regressor)\n",
    "xg_model = xgb.XGBRegressor(objective='reg:squarederror', random_state=42)\n",
    "# Fit the model\n",
    "xg_model.fit(X_train, y_train)\n",
    "# Make predictions\n",
    "y_pred_xg = xg_model.predict(X_test)\n",
    "# Evaluate performance\n",
    "mse_xg = mean_squared_error(y_test, y_pred_xg)\n",
    "r2_xg = r2_score(y_test, y_pred_xg)\n",
    "print(f\"XGBoost - Mean Squared Error: {mse_xg}\")\n",
    "print(f\"XGBoost - R-squared: {r2_xg}\")"
   ]
  },
  {
   "cell_type": "code",
   "execution_count": null,
   "metadata": {
    "vscode": {
     "languageId": "plaintext"
    }
   },
   "outputs": [],
   "source": [
    "import matplotlib.pyplot as plt\n",
    "import seaborn as sns\n",
    "# Make predictions using the best Random Forest model (from GridSearchCV or RandomizedSearchCV)\n",
    "y_pred_rf = best_rf_model.predict(X_test)\n",
    "# Plotting Actual vs Predicted Fantasy Points\n",
    "plt.figure(figsize=(10, 6))\n",
    "plt.scatter(y_test, y_pred_rf, color='blue', alpha=0.5)\n",
    "plt.plot([y_test.min(), y_test.max()], [y_test.min(), y_test.max()], color='red', linestyle='--')\n",
    "plt.xlabel('Actual Fantasy Points')\n",
    "plt.ylabel('Predicted Fantasy Points')\n",
    "plt.title('Random Forest: Actual vs Predicted Fantasy Points')\n",
    "plt.show()"
   ]
  },
  {
   "cell_type": "code",
   "execution_count": null,
   "metadata": {
    "vscode": {
     "languageId": "plaintext"
    }
   },
   "outputs": [],
   "source": [
    "# Make predictions using the XGBoost model\n",
    "y_pred_xg = xg_model.predict(X_test)\n",
    "# Plotting Actual vs Predicted Fantasy Points for XGBoost\n",
    "plt.figure(figsize=(10, 6))\n",
    "plt.scatter(y_test, y_pred_xg, color='green', alpha=0.5)\n",
    "plt.plot([y_test.min(), y_test.max()], [y_test.min(), y_test.max()], color='red', linestyle='--')\n",
    "plt.xlabel('Actual Fantasy Points')\n",
    "plt.ylabel('Predicted Fantasy Points')\n",
    "plt.title('XGBoost: Actual vs Predicted Fantasy Points')\n",
    "plt.show()"
   ]
  },
  {
   "cell_type": "code",
   "execution_count": null,
   "metadata": {
    "vscode": {
     "languageId": "plaintext"
    }
   },
   "outputs": [],
   "source": [
    "import joblib\n",
    "from sklearn.ensemble import RandomForestRegressor\n",
    "# Assuming X_train and y_train are already defined\n",
    "rf_model = RandomForestRegressor(n_estimators=100, random_state=42)\n",
    "# Train the model\n",
    "rf_model.fit(X_train, y_train)\n",
    "# Save the trained model to a .pkl file\n",
    "joblib.dump(rf_model, 'best_rf_model.pkl')"
   ]
  },
  {
   "cell_type": "code",
   "execution_count": null,
   "metadata": {
    "vscode": {
     "languageId": "plaintext"
    }
   },
   "outputs": [],
   "source": [
    "# Load the trained model\n",
    "rf_model = joblib.load('best_rf_model.pkl')"
   ]
  },
  {
   "cell_type": "code",
   "execution_count": null,
   "metadata": {
    "vscode": {
     "languageId": "plaintext"
    }
   },
   "outputs": [],
   "source": [
    "import streamlit as st\n",
    "import joblib\n",
    "# Load the trained model\n",
    "model = joblib.load('best_rf_model.pkl')\n",
    "# Streamlit user interface\n",
    "st.title('Fantasy Points Prediction')\n",
    "# User inputs\n",
    "player_stats = st.text_input(\"Enter player stats: \")\n",
    "# Make prediction when button is clicked\n",
    "if st.button('Predict Fantasy Points'):\n",
    "    input_data = [float(x) for x in player_stats.split(',')]\n",
    "    prediction = model.predict([input_data])\n",
    "    st.write(f\"Predicted Fantasy Points: {prediction[0]}\")"
   ]
  }
 ],
 "metadata": {
  "language_info": {
   "name": "python"
  }
 },
 "nbformat": 4,
 "nbformat_minor": 2
}
